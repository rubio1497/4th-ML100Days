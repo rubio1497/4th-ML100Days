{
 "cells": [
  {
   "cell_type": "markdown",
   "metadata": {},
   "source": [
    "# 作業"
   ]
  },
  {
   "cell_type": "markdown",
   "metadata": {},
   "source": [
    "在分類問題中，若沒有任何限制，決策樹有辦法在訓練時將 training loss 完全降成 0 嗎？"
   ]
  },
  {
   "cell_type": "markdown",
   "metadata": {},
   "source": [
    "ANS: 若資料中的 x -> y 不是一對多的情況 (同樣的 x 卻對應到不同的 y)。則決策樹其實是可以生成各種規則，想辦法把一個 x mapping 到一個 y，這種情況下，就可以把 trainling loss 降成 0"
   ]
  },
  {
   "cell_type": "markdown",
   "metadata": {},
   "source": [
    "決策樹只能用在分類問題嗎？還是可以用來解決回歸問題？"
   ]
  },
  {
   "cell_type": "markdown",
   "metadata": {},
   "source": [
    "ANS: 決策樹有兩種模式:分類樹(輸出是樣本的類標)和回歸樹(輸出是一個實數 (例如房子的價格，病人待在醫院的時間等))，所以都可以"
   ]
  }
 ],
 "metadata": {
  "kernelspec": {
   "display_name": "Python 3",
   "language": "python",
   "name": "python3"
  },
  "language_info": {
   "codemirror_mode": {
    "name": "ipython",
    "version": 3
   },
   "file_extension": ".py",
   "mimetype": "text/x-python",
   "name": "python",
   "nbconvert_exporter": "python",
   "pygments_lexer": "ipython3",
   "version": "3.7.4"
  }
 },
 "nbformat": 4,
 "nbformat_minor": 2
}
