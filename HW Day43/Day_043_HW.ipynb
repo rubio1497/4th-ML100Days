{
 "cells": [
  {
   "cell_type": "markdown",
   "metadata": {},
   "source": [
    "# 隨機森林希望每棵樹都能夠盡量複雜，然後再通過投票的方式，處理過擬合的問題。因此希望每棵樹都能夠盡量的生長\n",
    "\n",
    "# 假設總共有 N 筆資料，每棵樹用取後放回的方式抽了總共 N 筆資料生成，請問這棵樹大約使用了多少 % 不重複的原資料生成?"
   ]
  },
  {
   "cell_type": "markdown",
   "metadata": {},
   "source": [
    "ans: 在統計學中,當樣本來自的總體無法以常態分布來描述，常會以漸進分析法、自助法等方法來分析。採用random sampling with replacement(取後放回)的sample方式. 對於數量少的data set，自助法的效果很好。其中,最常用的一種是0.632自助法，其描述如下: 假設原本給定的數據集包含d個樣本。該數據集取後並有放回地抽樣d次，產生d個樣本的訓練集。這樣原數據樣本中的某些樣本很可能在該樣本集中出現多次。沒有進入該訓練集的樣本最終形成檢驗集(測試集)。 顯然每個樣本被選中的機率是1/d，因此未被選中的機率就是(1–1/d)，這樣\"一個樣本在訓練集中沒出現的機率\"就是d次都未被選中的機率，即(1–1/d)^d。當 d → 無窮大 時，(1–1/d)^d就會趨近於e^(-1)=0.368，所以在訓練集的抽樣過程中不會重複被選中的樣本數量大約占原本給定的數據集的63.2%(即1 - 0.368 = 0.632=\"一個樣本在訓練集中出現的機率\")。"
   ]
  }
 ],
 "metadata": {
  "kernelspec": {
   "display_name": "Python 3",
   "language": "python",
   "name": "python3"
  },
  "language_info": {
   "codemirror_mode": {
    "name": "ipython",
    "version": 3
   },
   "file_extension": ".py",
   "mimetype": "text/x-python",
   "name": "python",
   "nbconvert_exporter": "python",
   "pygments_lexer": "ipython3",
   "version": "3.7.4"
  }
 },
 "nbformat": 4,
 "nbformat_minor": 2
}
